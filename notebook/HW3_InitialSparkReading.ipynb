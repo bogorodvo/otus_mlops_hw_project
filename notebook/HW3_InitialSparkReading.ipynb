{
 "cells": [
  {
   "cell_type": "code",
   "execution_count": 1,
   "id": "0c507ee3-dc5c-49c3-ba80-2f827d8bae98",
   "metadata": {},
   "outputs": [
    {
     "name": "stdout",
     "output_type": "stream",
     "text": [
      "root\n",
      " |-- transaction_id: string (nullable = true)\n",
      " |-- tx_datetime: string (nullable = true)\n",
      " |-- customer_id: string (nullable = true)\n",
      " |-- terminal_id: string (nullable = true)\n",
      " |-- tx_amount: string (nullable = true)\n",
      " |-- tx_time_seconds: string (nullable = true)\n",
      " |-- tx_time_days: string (nullable = true)\n",
      " |-- tx_fraud: string (nullable = true)\n",
      " |-- tx_fraud_scenario: string (nullable = true)\n",
      "\n",
      "+--------------+-------------------+-----------+-----------+---------+---------------+------------+--------+-----------------+\n",
      "|transaction_id|        tx_datetime|customer_id|terminal_id|tx_amount|tx_time_seconds|tx_time_days|tx_fraud|tx_fraud_scenario|\n",
      "+--------------+-------------------+-----------+-----------+---------+---------------+------------+--------+-----------------+\n",
      "|             0|2019-08-22 06:51:03|          0|        711|    70.91|          24663|           0|       0|                0|\n",
      "|             1|2019-08-22 05:10:37|          0|          0|    90.55|          18637|           0|       0|                0|\n",
      "|             2|2019-08-22 19:05:33|          0|        753|    35.38|          68733|           0|       0|                0|\n",
      "|             3|2019-08-22 07:21:33|          0|          0|    80.41|          26493|           0|       0|                0|\n",
      "|             4|2019-08-22 09:06:17|          1|        981|   102.83|          32777|           0|       0|                0|\n",
      "+--------------+-------------------+-----------+-----------+---------+---------------+------------+--------+-----------------+\n",
      "only showing top 5 rows\n",
      "\n"
     ]
    }
   ],
   "source": [
    "import findspark\n",
    "findspark.init()\n",
    "findspark.find()\n",
    "from pyspark.sql import SparkSession\n",
    "from pyspark.sql.types import StructType, StructField, StringType\n",
    "\n",
    "spark = SparkSession.builder.getOrCreate()\n",
    "\n",
    "# Определение структуры схемы\n",
    "schema = StructType([\n",
    "    StructField(\"transaction_id\", StringType(), True),\n",
    "    StructField(\"tx_datetime\", StringType(), True),\n",
    "    StructField(\"customer_id\", StringType(), True),\n",
    "    StructField(\"terminal_id\", StringType(), True),\n",
    "    StructField(\"tx_amount\", StringType(), True),\n",
    "    StructField(\"tx_time_seconds\", StringType(), True),\n",
    "    StructField(\"tx_time_days\", StringType(), True),\n",
    "    StructField(\"tx_fraud\", StringType(), True),\n",
    "    StructField(\"tx_fraud_scenario\", StringType(), True)\n",
    "])\n",
    "\n",
    "# Чтение текстового файла с разделителем \",\"\n",
    "df = spark.read.format(\"csv\") \\\n",
    "    .option(\"header\", \"true\") \\\n",
    "    .option(\"delimiter\", \",\") \\\n",
    "    .schema(schema) \\\n",
    "    .load(\"s3a://otus-mlops-bucket-bvo/fraud-data/\")\n",
    "\n",
    "# Вывод схемы и содержимого DataFrame\n",
    "df.printSchema()\n",
    "df.show(5)"
   ]
  },
  {
   "cell_type": "code",
   "execution_count": 9,
   "id": "9be41a9e-e960-4bfa-a420-28fb31c729b2",
   "metadata": {},
   "outputs": [
    {
     "data": {
      "text/plain": [
       "0.068733"
      ]
     },
     "execution_count": 9,
     "metadata": {},
     "output_type": "execute_result"
    }
   ],
   "source": [
    "68733/1e6"
   ]
  },
  {
   "cell_type": "code",
   "execution_count": 11,
   "id": "f61fcdcb-f3b2-4b7b-9d8c-8d7c30ae03b3",
   "metadata": {},
   "outputs": [
    {
     "data": {
      "text/plain": [
       "1000000.0"
      ]
     },
     "execution_count": 11,
     "metadata": {},
     "output_type": "execute_result"
    }
   ],
   "source": [
    "1e6"
   ]
  },
  {
   "cell_type": "code",
   "execution_count": null,
   "id": "3c9659bc-f578-4bac-8545-abe49a1f2731",
   "metadata": {},
   "outputs": [],
   "source": []
  }
 ],
 "metadata": {
  "kernelspec": {
   "display_name": "Python 3",
   "language": "python",
   "name": "python3"
  },
  "language_info": {
   "codemirror_mode": {
    "name": "ipython",
    "version": 3
   },
   "file_extension": ".py",
   "mimetype": "text/x-python",
   "name": "python",
   "nbconvert_exporter": "python",
   "pygments_lexer": "ipython3",
   "version": "3.8.10"
  }
 },
 "nbformat": 4,
 "nbformat_minor": 5
}
