{
 "cells": [
  {
   "cell_type": "code",
   "execution_count": 1,
   "id": "0c507ee3-dc5c-49c3-ba80-2f827d8bae98",
   "metadata": {},
   "outputs": [
    {
     "name": "stdout",
     "output_type": "stream",
     "text": [
      "root\n",
      " |-- transaction_id: string (nullable = true)\n",
      " |-- tx_datetime: timestamp (nullable = true)\n",
      " |-- customer_id: string (nullable = true)\n",
      " |-- terminal_id: string (nullable = true)\n",
      " |-- tx_amount: double (nullable = true)\n",
      " |-- tx_time_seconds: integer (nullable = true)\n",
      " |-- tx_time_days: integer (nullable = true)\n",
      " |-- tx_fraud: integer (nullable = true)\n",
      " |-- tx_fraud_scenario: string (nullable = true)\n",
      "\n",
      "+--------------+-------------------+-----------+-----------+---------+---------------+------------+--------+-----------------+\n",
      "|transaction_id|        tx_datetime|customer_id|terminal_id|tx_amount|tx_time_seconds|tx_time_days|tx_fraud|tx_fraud_scenario|\n",
      "+--------------+-------------------+-----------+-----------+---------+---------------+------------+--------+-----------------+\n",
      "|             0|2019-08-22 06:51:03|          0|        711|    70.91|          24663|           0|       0|                0|\n",
      "|             1|2019-08-22 05:10:37|          0|          0|    90.55|          18637|           0|       0|                0|\n",
      "|             2|2019-08-22 19:05:33|          0|        753|    35.38|          68733|           0|       0|                0|\n",
      "|             3|2019-08-22 07:21:33|          0|          0|    80.41|          26493|           0|       0|                0|\n",
      "|             4|2019-08-22 09:06:17|          1|        981|   102.83|          32777|           0|       0|                0|\n",
      "+--------------+-------------------+-----------+-----------+---------+---------------+------------+--------+-----------------+\n",
      "only showing top 5 rows\n",
      "\n"
     ]
    }
   ],
   "source": [
    "import findspark\n",
    "findspark.init()\n",
    "findspark.find()\n",
    "from pyspark.sql import SparkSession\n",
    "from pyspark.sql.types import StructType, StructField, StringType, TimestampType, IntegerType, DoubleType\n",
    "\n",
    "spark = SparkSession.builder.getOrCreate()\n",
    "\n",
    "# Определение структуры схемы\n",
    "schema = StructType([\n",
    "    StructField(\"transaction_id\", StringType(), True),\n",
    "    StructField(\"tx_datetime\", TimestampType(), True),\n",
    "    StructField(\"customer_id\", StringType(), True),\n",
    "    StructField(\"terminal_id\", StringType(), True),\n",
    "    StructField(\"tx_amount\", DoubleType(), True),\n",
    "    StructField(\"tx_time_seconds\", IntegerType(), True),\n",
    "    StructField(\"tx_time_days\", IntegerType(), True),\n",
    "    StructField(\"tx_fraud\", IntegerType(), True),\n",
    "    StructField(\"tx_fraud_scenario\", StringType(), True)\n",
    "])\n",
    "\n",
    "# Чтение текстового файла с разделителем \",\"\n",
    "df = spark.read.format(\"csv\") \\\n",
    "    .option(\"header\", \"true\") \\\n",
    "    .option(\"delimiter\", \",\") \\\n",
    "    .schema(schema) \\\n",
    "    .load(\"s3a://otus-mlops-bucket-bvo/fraud-data/\")\n",
    "\n",
    "# Вывод схемы и содержимого DataFrame\n",
    "df.printSchema()\n",
    "df.show(5)"
   ]
  },
  {
   "cell_type": "code",
   "execution_count": null,
   "id": "9be41a9e-e960-4bfa-a420-28fb31c729b2",
   "metadata": {},
   "outputs": [],
   "source": []
  },
  {
   "cell_type": "code",
   "execution_count": null,
   "id": "ec336be6-348d-41a0-bc17-53d945d5d95f",
   "metadata": {},
   "outputs": [],
   "source": []
  },
  {
   "cell_type": "code",
   "execution_count": 11,
   "id": "b36c0d6f-10fb-4352-a592-4851dccc8006",
   "metadata": {},
   "outputs": [],
   "source": [
    "from pyspark import SparkContext, SparkConf\n",
    "from pyspark.sql import SQLContext, SparkSession"
   ]
  },
  {
   "cell_type": "code",
   "execution_count": 5,
   "id": "6b707f7a-b8c3-415c-9686-e06286bc3037",
   "metadata": {},
   "outputs": [],
   "source": [
    "conf = SparkConf().setAppName(\"Month Stat - Python\")\n",
    "conf.set(\"fs.s3a.aws.credentials.provider\", \"org.apache.hadoop.fs.s3a.AnonymousAWSCredentialsProvider\")\n",
    "sc = SparkContext(conf=conf)"
   ]
  },
  {
   "cell_type": "code",
   "execution_count": 6,
   "id": "d0e0ae88-1b8b-4384-89bf-3080b0936882",
   "metadata": {},
   "outputs": [],
   "source": [
    "sql = SQLContext(sc)"
   ]
  },
  {
   "cell_type": "code",
   "execution_count": 7,
   "id": "56c31f1d-09f6-4b02-b22e-6de35b34fc11",
   "metadata": {},
   "outputs": [],
   "source": [
    "df = sql.read.parquet(\"s3a://yc-mdb-examples/dataproc/example01/set01\")"
   ]
  },
  {
   "cell_type": "code",
   "execution_count": null,
   "id": "3d0ca65d-0762-4c26-8543-8442dc72b76a",
   "metadata": {},
   "outputs": [],
   "source": [
    "from pyspark.sql import SparkSession\n",
    "from pyspark import SparkContext, SparkConf\n",
    "from pyspark.sql import SQLContext"
   ]
  },
  {
   "cell_type": "code",
   "execution_count": 12,
   "id": "502b94dd-28f5-453c-a3ce-0ff00fa5d6ef",
   "metadata": {},
   "outputs": [],
   "source": [
    "spark = SparkSession\\\n",
    "    .builder\\\n",
    "    .appName(\"mytestapp\")\\\n",
    "    .getOrCreate()"
   ]
  },
  {
   "cell_type": "code",
   "execution_count": 16,
   "id": "49b81dd9-806f-479d-acb7-3f9073bdf2b3",
   "metadata": {},
   "outputs": [],
   "source": [
    "data = (spark.read.text('s3a://otus-mlops-bucket-bvo/fraud-data/2019-08-22.txt'))"
   ]
  },
  {
   "cell_type": "code",
   "execution_count": 42,
   "id": "a03bc871-13bb-467c-ab2e-af65874ac185",
   "metadata": {},
   "outputs": [
    {
     "name": "stdout",
     "output_type": "stream",
     "text": [
      "root\n",
      " |-- transaction_id: string (nullable = true)\n",
      " |-- tx_datetime: timestamp (nullable = true)\n",
      " |-- customer_id: string (nullable = true)\n",
      " |-- terminal_id: string (nullable = true)\n",
      " |-- tx_amount: double (nullable = true)\n",
      " |-- tx_time_seconds: integer (nullable = true)\n",
      " |-- tx_time_days: integer (nullable = true)\n",
      " |-- tx_fraud: integer (nullable = true)\n",
      " |-- tx_fraud_scenario: string (nullable = true)\n",
      "\n",
      "+--------------+-------------------+-----------+-----------+---------+---------------+------------+--------+-----------------+\n",
      "|transaction_id|        tx_datetime|customer_id|terminal_id|tx_amount|tx_time_seconds|tx_time_days|tx_fraud|tx_fraud_scenario|\n",
      "+--------------+-------------------+-----------+-----------+---------+---------------+------------+--------+-----------------+\n",
      "|             0|2019-08-22 06:51:03|          0|        711|    70.91|          24663|           0|       0|                0|\n",
      "|             1|2019-08-22 05:10:37|          0|          0|    90.55|          18637|           0|       0|                0|\n",
      "|             2|2019-08-22 19:05:33|          0|        753|    35.38|          68733|           0|       0|                0|\n",
      "|             3|2019-08-22 07:21:33|          0|          0|    80.41|          26493|           0|       0|                0|\n",
      "|             4|2019-08-22 09:06:17|          1|        981|   102.83|          32777|           0|       0|                0|\n",
      "|             5|2019-08-22 18:41:25|          3|        205|     34.2|          67285|           0|       0|                0|\n",
      "|             6|2019-08-22 03:12:21|          3|          0|     47.2|          11541|           0|       0|                0|\n",
      "|             7|2019-08-22 22:36:40|          6|        809|   139.39|          81400|           0|       0|                0|\n",
      "|             8|2019-08-22 17:23:29|          7|        184|    87.24|          62609|           0|       0|                0|\n",
      "|             9|2019-08-22 21:09:37|          8|        931|     61.7|          76177|           0|       0|                0|\n",
      "|            10|2019-08-22 11:32:42|         10|        663|    40.71|          41562|           0|       1|                2|\n",
      "|            11|2019-08-22 03:09:26|         10|        770|    63.91|          11366|           0|       0|                0|\n",
      "|            12|2019-08-22 15:47:54|         10|          0|    58.89|          56874|           0|       0|                0|\n",
      "|            13|2019-08-22 21:59:20|         10|        649|    89.24|          79160|           0|       0|                0|\n",
      "|            14|2019-08-22 20:55:13|         11|        380|     9.89|          75313|           0|       0|                0|\n",
      "|            15|2019-08-22 16:39:03|         11|        337|    83.36|          59943|           0|       0|                0|\n",
      "|            16|2019-08-22 23:15:07|         11|        973|    35.12|          83707|           0|       0|                0|\n",
      "|            17|2019-08-22 07:39:45|         12|          9|     74.0|          27585|           0|       0|                0|\n",
      "|            18|2019-08-22 05:35:39|         12|        745|   108.63|          20139|           0|       0|                0|\n",
      "|            19|2019-08-22 10:29:16|         12|          9|    84.45|          37756|           0|       0|                0|\n",
      "+--------------+-------------------+-----------+-----------+---------+---------------+------------+--------+-----------------+\n",
      "only showing top 20 rows\n",
      "\n"
     ]
    }
   ],
   "source": []
  },
  {
   "cell_type": "code",
   "execution_count": 43,
   "id": "ae7fef5b-1f84-422e-8513-0f9d9bf81c72",
   "metadata": {},
   "outputs": [
    {
     "data": {
      "text/plain": [
       "46988418"
      ]
     },
     "execution_count": 43,
     "metadata": {},
     "output_type": "execute_result"
    }
   ],
   "source": [
    "df.count()"
   ]
  },
  {
   "cell_type": "code",
   "execution_count": 44,
   "id": "4fca978e-b7d6-41ca-b770-9afe94693b17",
   "metadata": {},
   "outputs": [
    {
     "data": {
      "text/plain": [
       "0.02499657651342245"
      ]
     },
     "execution_count": 44,
     "metadata": {},
     "output_type": "execute_result"
    }
   ],
   "source": [
    "46988418/1879794138"
   ]
  },
  {
   "cell_type": "code",
   "execution_count": null,
   "id": "9489aaee-4590-432c-a646-dfc9e8dfdd21",
   "metadata": {},
   "outputs": [],
   "source": []
  },
  {
   "cell_type": "code",
   "execution_count": 26,
   "id": "ecde1c5f-abb9-42fe-a0fd-3dcdd4cf6d99",
   "metadata": {},
   "outputs": [],
   "source": [
    "df = data.limit(5).toPandas()"
   ]
  },
  {
   "cell_type": "code",
   "execution_count": 29,
   "id": "4b64087e-df36-4514-a7a1-3902fb98ffe9",
   "metadata": {},
   "outputs": [
    {
     "data": {
      "text/plain": [
       "['# tranaction_id | tx_datetime | customer_id | terminal_id | tx_amount | tx_time_seconds | tx_time_days | tx_fraud | tx_fraud_scenario',\n",
       " '0,2019-08-22 06:51:03,0,711,70.91,24663,0,0,0',\n",
       " '1,2019-08-22 05:10:37,0,0,90.55,18637,0,0,0',\n",
       " '2,2019-08-22 19:05:33,0,753,35.38,68733,0,0,0',\n",
       " '3,2019-08-22 07:21:33,0,0,80.41,26493,0,0,0']"
      ]
     },
     "execution_count": 29,
     "metadata": {},
     "output_type": "execute_result"
    }
   ],
   "source": [
    "df['value'].tolist()"
   ]
  },
  {
   "cell_type": "code",
   "execution_count": null,
   "id": "50c58c1a-cf6b-4793-a6d4-71655c359829",
   "metadata": {},
   "outputs": [],
   "source": []
  }
 ],
 "metadata": {
  "kernelspec": {
   "display_name": "Python 3",
   "language": "python",
   "name": "python3"
  },
  "language_info": {
   "codemirror_mode": {
    "name": "ipython",
    "version": 3
   },
   "file_extension": ".py",
   "mimetype": "text/x-python",
   "name": "python",
   "nbconvert_exporter": "python",
   "pygments_lexer": "ipython3",
   "version": "3.8.10"
  }
 },
 "nbformat": 4,
 "nbformat_minor": 5
}
